{
 "cells": [
  {
   "cell_type": "markdown",
   "metadata": {},
   "source": [
    "# Task 2 : Klasifikasi Topik Artikel Tanpa coloumn article_topic"
   ]
  },
  {
   "cell_type": "markdown",
   "metadata": {},
   "source": [
    "## Load Library"
   ]
  },
  {
   "cell_type": "code",
   "execution_count": 1,
   "metadata": {},
   "outputs": [
    {
     "name": "stderr",
     "output_type": "stream",
     "text": [
      "c:\\users\\user\\appdata\\local\\programs\\python\\python35\\lib\\site-packages\\sklearn\\cross_validation.py:41: DeprecationWarning: This module was deprecated in version 0.18 in favor of the model_selection module into which all the refactored classes and functions are moved. Also note that the interface of the new CV iterators are different from that of this module. This module will be removed in 0.20.\n",
      "  \"This module will be removed in 0.20.\", DeprecationWarning)\n"
     ]
    }
   ],
   "source": [
    "import csv,numpy,pandas,nltk\n",
    "import sklearn\n",
    "from sklearn.feature_extraction.text import CountVectorizer,TfidfVectorizer\n",
    "from nltk import sent_tokenize, word_tokenize, pos_tag\n",
    "\n",
    "from sklearn.cross_validation import StratifiedKFold, cross_val_score\n",
    "from sklearn.decomposition import LatentDirichletAllocation,NMF\n",
    "from sklearn.metrics import classification_report, f1_score, accuracy_score, confusion_matrix"
   ]
  },
  {
   "cell_type": "markdown",
   "metadata": {},
   "source": [
    "## Load Data"
   ]
  },
  {
   "cell_type": "code",
   "execution_count": 2,
   "metadata": {},
   "outputs": [
    {
     "data": {
      "text/html": [
       "<div>\n",
       "<style scoped>\n",
       "    .dataframe tbody tr th:only-of-type {\n",
       "        vertical-align: middle;\n",
       "    }\n",
       "\n",
       "    .dataframe tbody tr th {\n",
       "        vertical-align: top;\n",
       "    }\n",
       "\n",
       "    .dataframe thead th {\n",
       "        text-align: right;\n",
       "    }\n",
       "</style>\n",
       "<table border=\"1\" class=\"dataframe\">\n",
       "  <thead>\n",
       "    <tr style=\"text-align: right;\">\n",
       "      <th></th>\n",
       "      <th>article_id</th>\n",
       "      <th>article_topic</th>\n",
       "      <th>article_content</th>\n",
       "    </tr>\n",
       "  </thead>\n",
       "  <tbody>\n",
       "    <tr>\n",
       "      <th>0</th>\n",
       "      <td>93205794</td>\n",
       "      <td>Internasional</td>\n",
       "      <td>Kepolisian Inggris tengah memburu pelaku yang...</td>\n",
       "    </tr>\n",
       "    <tr>\n",
       "      <th>1</th>\n",
       "      <td>93186698</td>\n",
       "      <td>Ekonomi</td>\n",
       "      <td>Seluruh layanan transaksi di jalan tol akan m...</td>\n",
       "    </tr>\n",
       "    <tr>\n",
       "      <th>2</th>\n",
       "      <td>93191463</td>\n",
       "      <td>Teknologi</td>\n",
       "      <td>\\nHari ini, Rabu (23/8), ternyata menjadi har...</td>\n",
       "    </tr>\n",
       "    <tr>\n",
       "      <th>3</th>\n",
       "      <td>93219292</td>\n",
       "      <td>Ekonomi</td>\n",
       "      <td>Saat ini Indonesia hanya memiliki cadangan ba...</td>\n",
       "    </tr>\n",
       "    <tr>\n",
       "      <th>4</th>\n",
       "      <td>343106</td>\n",
       "      <td>Hiburan</td>\n",
       "      <td>Hari ini, Selasa (1/8), pedangdut Ridho Rhoma...</td>\n",
       "    </tr>\n",
       "  </tbody>\n",
       "</table>\n",
       "</div>"
      ],
      "text/plain": [
       "   article_id  article_topic  \\\n",
       "0    93205794  Internasional   \n",
       "1    93186698        Ekonomi   \n",
       "2    93191463      Teknologi   \n",
       "3    93219292        Ekonomi   \n",
       "4      343106        Hiburan   \n",
       "\n",
       "                                     article_content  \n",
       "0   Kepolisian Inggris tengah memburu pelaku yang...  \n",
       "1   Seluruh layanan transaksi di jalan tol akan m...  \n",
       "2   \\nHari ini, Rabu (23/8), ternyata menjadi har...  \n",
       "3   Saat ini Indonesia hanya memiliki cadangan ba...  \n",
       "4   Hari ini, Selasa (1/8), pedangdut Ridho Rhoma...  "
      ]
     },
     "execution_count": 2,
     "metadata": {},
     "output_type": "execute_result"
    }
   ],
   "source": [
    "#Baca data CSV dengan pandas\n",
    "df = pandas.read_csv('../data/ds_asg_data.csv')\n",
    "\n",
    "df.head()"
   ]
  },
  {
   "cell_type": "code",
   "execution_count": 3,
   "metadata": {},
   "outputs": [
    {
     "name": "stdout",
     "output_type": "stream",
     "text": [
      "article_topic\n",
      "Bisnis             25\n",
      "Bojonegoro        260\n",
      "Ekonomi          1762\n",
      "Haji             1497\n",
      "Health            131\n",
      "Hiburan          1466\n",
      "Horor              50\n",
      "Hukum              85\n",
      "Internasional     741\n",
      "Jakarta            12\n",
      "K-Pop              61\n",
      "KPK                37\n",
      "Kesehatan         195\n",
      "Keuangan           14\n",
      "Lifestyle         572\n",
      "MotoGP             35\n",
      "Obat-obatan        58\n",
      "Otomotif          174\n",
      "Pendidikan         70\n",
      "Personal           81\n",
      "Pilgub Jatim       25\n",
      "Politik           104\n",
      "Regional           35\n",
      "Sains             174\n",
      "Sejarah            70\n",
      "Sepak Bola       1184\n",
      "Sports            435\n",
      "Teknologi         571\n",
      "Travel             76\n",
      "dtype: int64\n"
     ]
    }
   ],
   "source": [
    "#View berdasar topic\n",
    "groupby= df.groupby('article_topic').size()\n",
    "print (groupby)"
   ]
  },
  {
   "cell_type": "markdown",
   "metadata": {},
   "source": [
    "View berdasarkan topik dan didapatkan 29 topik dengan topik Ekonomi mempunyai proporsi paling banyak, dan dapat dilihat data tersebut tidak proporsional"
   ]
  },
  {
   "cell_type": "markdown",
   "metadata": {},
   "source": [
    "Dicek dahulu apakah data terdapat missing value"
   ]
  },
  {
   "cell_type": "code",
   "execution_count": 4,
   "metadata": {},
   "outputs": [
    {
     "name": "stdout",
     "output_type": "stream",
     "text": [
      "(10000,)\n",
      "      article_id  article_topic  article_content\n",
      "0          False          False            False\n",
      "1          False          False            False\n",
      "2          False          False            False\n",
      "3          False          False            False\n",
      "4          False          False            False\n",
      "5          False          False            False\n",
      "6          False          False            False\n",
      "7          False          False            False\n",
      "8          False          False            False\n",
      "9          False          False            False\n",
      "10         False          False            False\n",
      "11         False          False            False\n",
      "12         False          False            False\n",
      "13         False          False            False\n",
      "14         False          False            False\n",
      "15         False          False            False\n",
      "16         False          False            False\n",
      "17         False          False            False\n",
      "18         False          False            False\n",
      "19         False          False            False\n",
      "20         False          False            False\n",
      "21         False          False            False\n",
      "22         False          False            False\n",
      "23         False          False            False\n",
      "24         False          False            False\n",
      "25         False          False            False\n",
      "26         False          False            False\n",
      "27         False          False            False\n",
      "28         False          False            False\n",
      "29         False          False            False\n",
      "...          ...            ...              ...\n",
      "9970       False          False            False\n",
      "9971       False          False            False\n",
      "9972       False          False            False\n",
      "9973       False          False            False\n",
      "9974       False          False            False\n",
      "9975       False          False            False\n",
      "9976       False          False            False\n",
      "9977       False          False            False\n",
      "9978       False          False            False\n",
      "9979       False          False            False\n",
      "9980       False          False            False\n",
      "9981       False          False            False\n",
      "9982       False          False            False\n",
      "9983       False          False            False\n",
      "9984       False          False            False\n",
      "9985       False          False            False\n",
      "9986       False          False            False\n",
      "9987       False          False            False\n",
      "9988       False          False            False\n",
      "9989       False          False            False\n",
      "9990       False          False            False\n",
      "9991       False          False            False\n",
      "9992       False          False            False\n",
      "9993       False          False            False\n",
      "9994       False          False            False\n",
      "9995       False          False            False\n",
      "9996       False          False            False\n",
      "9997       False          False            False\n",
      "9998       False          False            False\n",
      "9999       False          False            False\n",
      "\n",
      "[10000 rows x 3 columns]\n",
      "article_id          0\n",
      "article_topic       0\n",
      "article_content    36\n",
      "dtype: int64\n"
     ]
    }
   ],
   "source": [
    "#Cek data dan normalisasi\n",
    "#cek bila ada yang kosong\n",
    "cek_bentuk= df['article_content'].shape\n",
    "cek_null=df.isnull()\n",
    "cek_jumlah_null=df.isnull().sum()\n",
    "\n",
    "print (cek_bentuk)\n",
    "print (cek_null)\n",
    "print (cek_jumlah_null)"
   ]
  },
  {
   "cell_type": "markdown",
   "metadata": {},
   "source": [
    "Setelah cek data apakah ada data yang null atau tidak, karena ada data yang null/missing value maka perlu dinormalisasi terlebih dahulu."
   ]
  },
  {
   "cell_type": "markdown",
   "metadata": {},
   "source": [
    "Kita hapus data yang terdapat missing value"
   ]
  },
  {
   "cell_type": "code",
   "execution_count": 5,
   "metadata": {},
   "outputs": [
    {
     "name": "stdout",
     "output_type": "stream",
     "text": [
      "(9964,)\n",
      "      article_id  article_topic  article_content\n",
      "0          False          False            False\n",
      "1          False          False            False\n",
      "2          False          False            False\n",
      "3          False          False            False\n",
      "4          False          False            False\n",
      "5          False          False            False\n",
      "6          False          False            False\n",
      "7          False          False            False\n",
      "8          False          False            False\n",
      "9          False          False            False\n",
      "10         False          False            False\n",
      "11         False          False            False\n",
      "12         False          False            False\n",
      "13         False          False            False\n",
      "14         False          False            False\n",
      "15         False          False            False\n",
      "16         False          False            False\n",
      "17         False          False            False\n",
      "18         False          False            False\n",
      "19         False          False            False\n",
      "20         False          False            False\n",
      "21         False          False            False\n",
      "22         False          False            False\n",
      "23         False          False            False\n",
      "24         False          False            False\n",
      "25         False          False            False\n",
      "26         False          False            False\n",
      "27         False          False            False\n",
      "28         False          False            False\n",
      "29         False          False            False\n",
      "...          ...            ...              ...\n",
      "9970       False          False            False\n",
      "9971       False          False            False\n",
      "9972       False          False            False\n",
      "9973       False          False            False\n",
      "9974       False          False            False\n",
      "9975       False          False            False\n",
      "9976       False          False            False\n",
      "9977       False          False            False\n",
      "9978       False          False            False\n",
      "9979       False          False            False\n",
      "9980       False          False            False\n",
      "9981       False          False            False\n",
      "9982       False          False            False\n",
      "9983       False          False            False\n",
      "9984       False          False            False\n",
      "9985       False          False            False\n",
      "9986       False          False            False\n",
      "9987       False          False            False\n",
      "9988       False          False            False\n",
      "9989       False          False            False\n",
      "9990       False          False            False\n",
      "9991       False          False            False\n",
      "9992       False          False            False\n",
      "9993       False          False            False\n",
      "9994       False          False            False\n",
      "9995       False          False            False\n",
      "9996       False          False            False\n",
      "9997       False          False            False\n",
      "9998       False          False            False\n",
      "9999       False          False            False\n",
      "\n",
      "[9964 rows x 3 columns]\n",
      "article_id         0\n",
      "article_topic      0\n",
      "article_content    0\n",
      "dtype: int64\n"
     ]
    }
   ],
   "source": [
    "#Drop/Hapus data yang kosong\n",
    "modifiedData = df.dropna()\n",
    "\n",
    "cek_bentuk= modifiedData['article_content'].shape\n",
    "cek_null=modifiedData.isnull()\n",
    "cek_jumlah_null=modifiedData.isnull().sum()\n",
    "\n",
    "print (cek_bentuk)\n",
    "print (cek_null)\n",
    "print (cek_jumlah_null)"
   ]
  },
  {
   "cell_type": "markdown",
   "metadata": {},
   "source": [
    "Kita Hapus data yang missing value, maka 36 data yang kosong tersebut dihilangkan. Lalu kita load lagi data yang telah dinormalisasi."
   ]
  },
  {
   "cell_type": "code",
   "execution_count": 6,
   "metadata": {},
   "outputs": [],
   "source": [
    "#Baca data CSV dengan pandas\n",
    "df = pandas.read_csv('modifiedData.csv')\n",
    "Id=df['article_id']\n",
    "Con= df['article_content']\n",
    "Topic = df['article_topic']"
   ]
  },
  {
   "cell_type": "markdown",
   "metadata": {},
   "source": [
    "Setelah itu dilakukan tahap tokenisasi yaitu memecah kalimat menjadi kata-kata yang dilakukan untuk menjadikan sebuah kalimat menjadi lebih bermakna."
   ]
  },
  {
   "cell_type": "code",
   "execution_count": 7,
   "metadata": {},
   "outputs": [],
   "source": [
    "#Pisahkan kata/tokenize data\n",
    "\n",
    "PK= [nltk.word_tokenize(PisahKata) for PisahKata in df['article_content']]"
   ]
  },
  {
   "cell_type": "markdown",
   "metadata": {},
   "source": [
    "Setelah itu masuk ketahap stopword removal/filtrasi yaitu filtrasi adalah tahap mengambil kata-kata penting"
   ]
  },
  {
   "cell_type": "code",
   "execution_count": 8,
   "metadata": {},
   "outputs": [],
   "source": [
    "stopword = ['ada','adalah','adanya','adapun','agak','agaknya','agar','akan','akankah',\n",
    "                 'akhir','akhiri','akhirnya','aku','akulah','amat','amatlah','anda','andalah',\n",
    "                 'antar','antara','antaranya','apa','apaan','apabila','apakah','apalagi','apatah',\n",
    "                 'artinya','asal','asalkan','atas','atau','ataukah','ataupun','awal','awalnya','bagai',\n",
    "                 'bagaikan','bagaimana','bagaimanakah','bagaimanapun','bagi','bagian','bahkan','bahwa',\n",
    "                 'bahwasanya','baik','bakal','bakalan','balik','banyak','bapak','baru','bawah','beberapa',\n",
    "                 'begini','beginian','beginikah','beginilah','begitu','begitukah','begitulah','begitupun',\n",
    "                 'bekerja','belakang','belakangan','belum','belumlah','benar','benarkah','benarlah','berada',\n",
    "                 'berakhir','berakhirlah','berakhirnya','berapa','berapakah','berapalah','berapapun','berarti',\n",
    "                 'berawal','berbagai','berdatangan','beri','berikan','berikut','berikutnya','berjumlah','berkali-kali',\n",
    "                 'berkata','berkehendak','berkeinginan','berkenaan','berlainan','berlalu','berlangsung','berlebihan','bermacam',\n",
    "                 'bermacam-macam','bermaksud','bermula','bersama','bersama-sama','bersiap','bersiap-siap','bertanya','bertanya-tanya','berturut','berturut-turut','bertutur','berujar','berupa','besar','betul','betulkah','biasa','biasanya','bila','bilakah','bisa','bisakah','boleh','bolehkah','bolehlah','buat','bukan','bukankah','bukanlah','bukannya','bulan','bung','cara','caranya','cukup','cukupkah','cukuplah','cuma','dahulu','dalam','dan','dapat','dari','daripada','datang','dekat','demi','demikian','demikianlah','dengan','depan','di','dia','diakhiri','diakhirinya','dialah','diantara','diantaranya','diberi','diberikan','diberikannya','dibuat','dibuatnya','didapat','didatangkan','digunakan','diibaratkan','diibaratkannya','diingat','diingatkan','diinginkan','dijawab','dijelaskan','dijelaskannya','dikarenakan','dikatakan','dikatakannya','dikerjakan','diketahui','diketahuinya','dikira','dilakukan','dilalui','dilihat','dimaksud','dimaksudkan','dimaksudkannya','dimaksudnya','diminta','dimintai','dimisalkan','dimulai','dimulailah','dimulainya','dimungkinkan','dini','dipastikan','diperbuat','diperbuatnya','dipergunakan','diperkirakan','diperlihatkan','diperlukan','diperlukannya','dipersoalkan','dipertanyakan','dipunyai','diri','dirinya','disampaikan','disebut','disebutkan','disebutkannya','disini','disinilah','ditambahkan','ditandaskan','ditanya','ditanyai','ditanyakan','ditegaskan','ditujukan','ditunjuk','ditunjuki','ditunjukkan','ditunjukkannya','ditunjuknya','dituturkan','dituturkannya','diucapkan','diucapkannya','diungkapkan','dong','dua','dulu','empat','enggak','enggaknya','entah','entahlah','guna','gunakan','hal','hampir','hanya','hanyalah','hari','harus','haruslah','harusnya','hendak','hendaklah','hendaknya','hingga','ia','ialah','ibarat','ibaratkan','ibaratnya','ibu','ikut','ingat','ingat-ingat','ingin','inginkah','inginkan','ini','inikah','inilah','itu','itukah','itulah','jadi','jadilah','jadinya','jangan','jangankan','janganlah','jauh','jawab','jawaban','jawabnya','jelas','jelaskan','jelaslah','jelasnya','jika','jikalau','juga','jumlah','jumlahnya','justru','kala','kalau','kalaulah','kalaupun','kalian','kami','kamilah','kamu','kamulah','kan','kapan','kapankah','kapanpun','karena','karenanya','kasus','kata','katakan','katakanlah','katanya','ke','keadaan','kebetulan','kecil','kedua','keduanya','keinginan','kelamaan','kelihatan','kelihatannya','kelima','keluar','kembali','kemudian','kemungkinan','kemungkinannya','kenapa','kepada','kepadanya','kesampaian','keseluruhan','keseluruhannya','keterlaluan','ketika','khususnya','kini','kinilah','kira','kira-kira','kiranya','kita','kitalah','kok','kurang','lagi','lagian','lah','lain','lainnya','lalu','lama','lamanya','lanjut','lanjutnya','lebih','lewat','lima','luar','macam','maka','makanya','makin','malah','malahan','mampu','mampukah','mana','manakala','manalagi','masa','masalah','masalahnya','masih','masihkah','masing','masing-masing','mau','maupun','melainkan','melakukan','melalui','melihat','melihatnya','memang','memastikan','memberi','memberikan','membuat','memerlukan','memihak','meminta','memintakan','memisalkan','memperbuat','mempergunakan','memperkirakan','memperlihatkan','mempersiapkan','mempersoalkan','mempertanyakan','mempunyai','memulai','memungkinkan','menaiki','menambahkan','menandaskan','menanti','menanti-nanti','menantikan','menanya','menanyai','menanyakan','mendapat','mendapatkan','mendatang','mendatangi','mendatangkan','menegaskan','mengakhiri','mengapa','mengatakan','mengatakannya','mengenai','mengerjakan','mengetahui','menggunakan','menghendaki','mengibaratkan','mengibaratkannya','mengingat','mengingatkan','menginginkan','mengira','mengucapkan','mengucapkannya','mengungkapkan','menjadi','menjawab','menjelaskan','menuju','menunjuk','menunjuki','menunjukkan','menunjuknya','menurut','menuturkan','menyampaikan','menyangkut','menyatakan','menyebutkan','menyeluruh','menyiapkan','merasa','mereka','merekalah','merupakan','meski','meskipun','meyakini','meyakinkan','minta','mirip','misal','misalkan','misalnya','mula','mulai','mulailah','mulanya','mungkin','mungkinkah','nah','naik','namun','nanti','nantinya','nyaris','nyatanya','oleh','olehnya','pada','padahal','padanya','pak','paling','panjang','pantas','para','pasti','pastilah','penting','pentingnya','per','percuma','perlu','perlukah','perlunya','pernah','persoalan','pertama','pertama-tama','pertanyaan','pertanyakan','pihak','pihaknya','pukul','pula','pun','punya','rasa','rasanya','rata','rupanya','saat','saatnya','saja','sajalah','saling','sama','sama-sama','sambil','sampai','sampai-sampai','sampaikan','sana','sangat','sangatlah','satu','saya','sayalah','se','sebab','sebabnya','sebagai','sebagaimana','sebagainya','sebagian','sebaik','sebaik-baiknya','sebaiknya','sebaliknya','sebanyak','sebegini','sebegitu','sebelum','sebelumnya','sebenarnya','seberapa','sebesar','sebetulnya','sebisanya','sebuah','sebut','sebutlah','sebutnya','secara','secukupnya','sedang','sedangkan','sedemikian','sedikit','sedikitnya','seenaknya','segala','segalanya','segera','seharusnya','sehingga','seingat','sejak','sejauh','sejenak','sejumlah','sekadar','sekadarnya','sekali','sekali-kali','sekalian','sekaligus','sekalipun','sekarang','sekarang','sekecil','seketika','sekiranya','sekitar','sekitarnya','sekurang-kurangnya','sekurangnya','sela','selain','selaku','selalu','selama','selama-lamanya','selamanya','selanjutnya','seluruh','seluruhnya','semacam','semakin','semampu','semampunya','semasa','semasih','semata','semata-mata','semaunya','sementara','semisal','semisalnya','sempat','semua','semuanya','semula','sendiri','sendirian','sendirinya','seolah','seolah-olah','seorang','sepanjang','sepantasnya','sepantasnyalah','seperlunya','seperti','sepertinya','sepihak','sering','seringnya','serta','serupa','sesaat','sesama','sesampai','sesegera','sesekali','seseorang','sesuatu','sesuatunya','sesudah','sesudahnya','setelah','setempat','setengah','seterusnya','setiap','setiba','setibanya','setidak-tidaknya','setidaknya','setinggi','seusai','sewaktu','siap','siapa','siapakah','siapapun','sini','sinilah','soal','soalnya','suatu','sudah','sudahkah','sudahlah','supaya','tadi','tadinya','tahu','tahun','tak','tambah','tambahnya','tampak','tampaknya','tandas','tandasnya','tanpa','tanya','tanyakan','tanyanya','tapi','tegas','tegasnya','telah','tempat','tengah','tentang','tentu','tentulah','tentunya','tepat','terakhir','terasa','terbanyak','terdahulu','terdapat','terdiri','terhadap','terhadapnya','teringat','teringat-ingat','terjadi','terjadilah','terjadinya','terkira','terlalu','terlebih','terlihat','termasuk','ternyata','tersampaikan','tersebut','tersebutlah','tertentu','tertuju','terus','terutama','tetap','tetapi','tiap','tiba','tiba-tiba','tidak','tidakkah','tidaklah','tiga','tinggi','toh','tunjuk','turut','tutur','tuturnya','ucap','ucapnya','ujar','ujarnya','umum','umumnya','ungkap','ungkapnya','untuk','usah','usai','waduh','wah','wahai','waktu','waktunya','walau','walaupun','wong','yaitu','yakin','yakni','yang']\n",
    "\n",
    "sw=[]\n",
    "\n",
    "for conten in PK:\n",
    "    kata= list(filter(lambda x: x not in stopword, conten))\n",
    "    sw.append(kata)\n",
    "\n",
    "df['stopword'] = sw"
   ]
  },
  {
   "cell_type": "markdown",
   "metadata": {},
   "source": [
    "Setelah menghilangkan kata-kata yang tidak penting akan tersisa kata-kata yang penting saja pada data. lalu kita ubah data dari list ke string untuk proses selanjutnya."
   ]
  },
  {
   "cell_type": "code",
   "execution_count": 9,
   "metadata": {},
   "outputs": [],
   "source": [
    "#Ubah list ke str\n",
    "string = map(' '.join, sw)"
   ]
  },
  {
   "cell_type": "markdown",
   "metadata": {},
   "source": [
    "## Feature Extraction"
   ]
  },
  {
   "cell_type": "markdown",
   "metadata": {},
   "source": [
    "Lalu setelah itu masuk ketahap feature extraction dimana kata-kata pada data diubah menjadi vector model menggunakan term frequency(tf) dan term frequency-inverse document frequency(tf-idf). tf(countvector/raw count) cocok digunakan untuk algoritma LDA karena LDA menggunakan model probabilitas sehingga hanya membutuhkan raw count saja, dan algoritma NMF menggunakan tfidf dalam pemrosesanya karena berdasarkan linear algebra dalam pemodelanya."
   ]
  },
  {
   "cell_type": "code",
   "execution_count": 10,
   "metadata": {},
   "outputs": [],
   "source": [
    "#CountVector/raw count\n",
    "count_vect = CountVectorizer()\n",
    "count = count_vect.fit_transform(string)\n",
    "tf_feature_names = count_vect.get_feature_names()\n",
    "\n",
    "#tf-idf\n",
    "string = map(' '.join, sw)\n",
    "\n",
    "tfidf_vectorizer = TfidfVectorizer()\n",
    "tfidf = tfidf_vectorizer.fit_transform(string)\n",
    "tfidf_feature_names = tfidf_vectorizer.get_feature_names()"
   ]
  },
  {
   "cell_type": "markdown",
   "metadata": {},
   "source": [
    "## Modelling NMF dan LDA"
   ]
  },
  {
   "cell_type": "markdown",
   "metadata": {},
   "source": [
    "Dilakukan modelling dengan menggunakan algoritma Non-negative Matrix Factorization (NMF) dan juga Latent Dirichlet Allocation (LDA)."
   ]
  },
  {
   "cell_type": "markdown",
   "metadata": {},
   "source": [
    "Kita coba dengan NMF dan LDA, pada NMF merepresentasikan Dokumen menjadi beberapa topik berdasarkan linear algebra. \n",
    "Sedangkan pada LDA merepresentasikan Dokumen menjadi beberapa topik dengan model probabilitas. Pada task ini jumlah topik sebesar 29 topik."
   ]
  },
  {
   "cell_type": "code",
   "execution_count": 11,
   "metadata": {},
   "outputs": [
    {
     "name": "stderr",
     "output_type": "stream",
     "text": [
      "c:\\users\\user\\appdata\\local\\programs\\python\\python35\\lib\\site-packages\\sklearn\\decomposition\\online_lda.py:294: DeprecationWarning: n_topics has been renamed to n_components in version 0.19 and will be removed in 0.21\n",
      "  DeprecationWarning)\n"
     ]
    }
   ],
   "source": [
    "no_topics = 29\n",
    "\n",
    "# Coba algoritma NMF\n",
    "nmf = NMF(n_components=no_topics, random_state=1, alpha=.1, l1_ratio=.5, init='nndsvd').fit(tfidf)\n",
    "\n",
    "# Coba algoritma LDA\n",
    "lda = LatentDirichletAllocation(n_topics=no_topics, max_iter=5, learning_method='online', learning_offset=50.,random_state=0).fit(count)"
   ]
  },
  {
   "cell_type": "code",
   "execution_count": 12,
   "metadata": {},
   "outputs": [],
   "source": [
    "def display_topics(model, feature_names, no_top_words):\n",
    "    for topic_idx, topic in enumerate(model.components_):\n",
    "        print (\"Topic %d:\" % (topic_idx))\n",
    "        print(\", \".join([feature_names[i]\n",
    "                        for i in topic.argsort()[:-no_top_words - 1:-1]]))\n",
    "\n",
    "no_top_words = 10"
   ]
  },
  {
   "cell_type": "markdown",
   "metadata": {},
   "source": [
    "Menampilkan hasil dari NMF."
   ]
  },
  {
   "cell_type": "code",
   "execution_count": 13,
   "metadata": {},
   "outputs": [
    {
     "name": "stdout",
     "output_type": "stream",
     "text": [
      "Topic 0:\n",
      "jemaah, haji, saudi, madinah, menag, arab, petugas, makkah, bus, indonesia\n",
      "Topic 1:\n",
      "united, liverpool, musim, pemain, league, premier, city, arsenal, liga, manchester\n",
      "Topic 2:\n",
      "indonesia, negara, perusahaan, pemerintah, pt, masyarakat, 2017, jakarta, presiden, menteri\n",
      "Topic 3:\n",
      "saham, indeks, poin, ihsg, rp, turun, perdagangan, persen, menguat, level\n",
      "Topic 4:\n",
      "anda, tubuh, penyakit, kanker, kulit, kesehatan, makanan, darah, buah, obat\n",
      "Topic 5:\n",
      "gamat, jelly, qnc, pemesanan, penyakit, obat, teripang, no, botol, herbal\n",
      "Topic 6:\n",
      "wafat, jantung, madinah, agustus, serangan, bin, 2017, rs, usia, sub\n",
      "Topic 7:\n",
      "jamaah, haji, saudi, ibadah, arab, madinah, kesehatan, makkah, calon, mekkah\n",
      "Topic 8:\n",
      "timnas, pemain, 19, egy, indra, 22, indonesia, thailand, piala, tim\n",
      "Topic 9:\n",
      "haji, dana, infrastruktur, investasi, bpkh, syariah, pengelolaan, diinvestasikan, keuangan, pemerintah\n",
      "Topic 10:\n",
      "rohingya, myanmar, rakhine, bangladesh, kyi, suu, desa, kekerasan, pengungsi, etnis\n",
      "Topic 11:\n",
      "pebalap, balapan, marquez, rossi, sesi, dovizioso, posisi, detik, motogp, vinales\n",
      "Topic 12:\n",
      "rupiah, dolar, as, 13, sentimen, rp, level, melemah, laju, bergerak\n",
      "Topic 13:\n",
      "kloter, embarkasi, aceh, haji, calon, jemaah, meninggal, jch, berangkat, kabupaten\n",
      "Topic 14:\n",
      "ponsel, iphone, galaxy, kamera, note, samsung, apple, gb, xiaomi, layar\n",
      "Topic 15:\n",
      "tol, elektronik, bank, uang, kartu, bi, transaksi, jalan, pembayaran, biaya\n",
      "Topic 16:\n",
      "bella, emran, pernikahan, malaysia, engku, aleesya, resepsi, menikah, laudya, cynthia\n",
      "Topic 17:\n",
      "barcelona, neymar, messi, psg, pemain, madrid, liga, ronaldo, dembele, suarez\n",
      "Topic 18:\n",
      "korea, korut, trump, kim, utara, as, jong, rudal, un, nuklir\n",
      "Topic 19:\n",
      "rp, triliun, utang, anggaran, miliar, penerimaan, apbn, dana, juta, 2018\n",
      "Topic 20:\n",
      "gol, menit, laga, gawang, berhasil, babak, bola, umpan, skor, ke\n",
      "Topic 21:\n",
      "bojonegoro, desa, kabupaten, blokbojonegoro, kecamatan, com, persibo, berita, v2, reporter\n",
      "Topic 22:\n",
      "listrik, pln, mw, mobil, energi, jonan, splu, pembangkit, esdm, kendaraan\n",
      "Topic 23:\n",
      "freeport, divestasi, saham, pemerintah, jonan, pt, 51, esdm, perundingan, negosiasi\n",
      "Topic 24:\n",
      "film, tora, warkop, pengabdi, horor, setan, sutradara, reborn, indro, penonton\n",
      "Topic 25:\n",
      "lagu, album, musik, penonton, jazz, panggung, the, video, band, merilis\n",
      "Topic 26:\n",
      "pajak, penulis, ditjen, ken, penghasilan, mulyani, penerimaan, sri, perpajakan, keuangan\n",
      "Topic 27:\n",
      "anak, orang, ya, rumah, caisar, aja, sang, nafa, aku, sih\n",
      "Topic 28:\n",
      "persen, pertumbuhan, bunga, suku, inflasi, kredit, ekonomi, bank, bi, kuartal\n"
     ]
    }
   ],
   "source": [
    "display_topics(nmf, tfidf_feature_names, no_top_words)"
   ]
  },
  {
   "cell_type": "markdown",
   "metadata": {},
   "source": [
    "Dapat dilihat hasil 30 topik dari NMF."
   ]
  },
  {
   "cell_type": "markdown",
   "metadata": {},
   "source": [
    "Menampilkan hasil dari LDA."
   ]
  },
  {
   "cell_type": "code",
   "execution_count": 14,
   "metadata": {},
   "outputs": [
    {
     "name": "stdout",
     "output_type": "stream",
     "text": [
      "Topic 0:\n",
      "mobil, listrik, motor, kendaraan, unit, mesin, toyota, mitsubishi, model, xpander\n",
      "Topic 1:\n",
      "pohon, kucing, mbah, probolinggo, manusia, sunan, harta, pemimpin, daffa, torem\n",
      "Topic 2:\n",
      "the, and, you, vicky, tulis, ariel, we, acha, be, that\n",
      "Topic 3:\n",
      "indonesia, negara, orang, jakarta, pemerintah, masyarakat, salah, 2017, 10, memiliki\n",
      "Topic 4:\n",
      "penyakit, anda, obat, gamat, jelly, tubuh, qnc, memiliki, kanker, kesehatan\n",
      "Topic 5:\n",
      "terminal, pelabuhan, karyawan, tanjung, mogok, jict, bongkar, priok, aro, rhb\n",
      "Topic 6:\n",
      "anak, orang, film, ya, lagu, namun, sang, foto, salah, berusia\n",
      "Topic 7:\n",
      "perempuan, weinstein, laki, gunungsitoli, mahrez, yordania, beltim, steinhaus, doel, jedi\n",
      "Topic 8:\n",
      "haji, jemaah, 2017, wafat, usia, makkah, jamaah, gangguan, jantung, agustus\n",
      "Topic 9:\n",
      "ponsel, pengguna, aplikasi, kamera, teknologi, iphone, layanan, fitur, google, indonesia\n",
      "Topic 10:\n",
      "pemain, gol, laga, musim, tim, bola, pertandingan, berhasil, menit, liga\n",
      "Topic 11:\n",
      "rp, persen, as, saham, triliun, dolar, harga, miliar, 2017, pasar\n",
      "Topic 12:\n",
      "pesantren, santri, pondok, emoji, manson, ponpes, yockie, _terbang, agg, kitab\n",
      "Topic 13:\n",
      "makanan, daging, hewan, sapi, menu, ayam, restoran, nasi, kolesterol, susu\n",
      "Topic 14:\n",
      "serangan, tewas, al, isis, korban, bom, kelompok, israel, polisi, suriah\n",
      "Topic 15:\n",
      "kapal, guru, laut, gravitasi, pembelajaran, dakwah, ntt, selam, softlens, pelabuhan\n",
      "Topic 16:\n",
      "buku, pita, bitcoin, warna, surya, digital, sheza, chacha, koper, mata\n",
      "Topic 17:\n",
      "kang, kek, ridwan, emil, pan, bandung, wali, onthel, its, gesits\n",
      "Topic 18:\n",
      "dion, alana, fiona, tupperware, taliban, nato, afghanistan, anthony, tea, getafe\n",
      "Topic 19:\n",
      "gunung, pasuruan, sampah, seleksi, pendaftaran, alam, peserta, irsyad, sembalun, pengawas\n",
      "Topic 20:\n",
      "pasukan, pulau, ikan, laut, senjata, saumlaki, militer, desa, perikanan, pantai\n",
      "Topic 21:\n",
      "kulit, rohingya, myanmar, warna, luka, rambut, tora, air, mata, wajah\n",
      "Topic 22:\n",
      "partai, jawa, garam, kabupaten, banyuwangi, ketua, bupati, calon, jazz, timur\n",
      "Topic 23:\n",
      "dpr, saksi, terkait, tpk, kpk, komisi, anggaran, pengadaan, ktp, suap\n",
      "Topic 24:\n",
      "barang, tas, bazaar, luhan, najwa, gucci, chanel, bermerek, preloved, ivf\n",
      "Topic 25:\n",
      "bojonegoro, desa, kecamatan, kabupaten, com, warga, korban, polisi, pelaku, berita\n",
      "Topic 26:\n",
      "bank, uang, kartu, pembayaran, kredit, bi, transaksi, elektronik, nasabah, data\n",
      "Topic 27:\n",
      "shankly, makoto, busby, guelenist, cassini, epidermoid, kpzw, guelen, tistha, gimbal\n",
      "Topic 28:\n",
      "games, atlet, olahraga, asian, putri, belanda, kerajaan, raja, nyonya, meneer\n"
     ]
    }
   ],
   "source": [
    "display_topics(lda, tf_feature_names, no_top_words)"
   ]
  },
  {
   "cell_type": "markdown",
   "metadata": {},
   "source": [
    "Dapat dilihat hasil 30 topik dari LDA."
   ]
  },
  {
   "cell_type": "markdown",
   "metadata": {},
   "source": [
    "## Evaluasi\n",
    "Program diatas merupakan unsupervised learning sehingga susah untuk melakukan evaluasi. Oleh karena itu, evaluasi dilakukan dengan membandingkan seberapa relevan hasil dari LDA dan NMF terhadap topic yang sebenernya."
   ]
  },
  {
   "cell_type": "markdown",
   "metadata": {},
   "source": [
    "Coba lihat hasil dari algoritma NMF."
   ]
  },
  {
   "cell_type": "code",
   "execution_count": 15,
   "metadata": {},
   "outputs": [
    {
     "data": {
      "text/html": [
       "<div>\n",
       "<style scoped>\n",
       "    .dataframe tbody tr th:only-of-type {\n",
       "        vertical-align: middle;\n",
       "    }\n",
       "\n",
       "    .dataframe tbody tr th {\n",
       "        vertical-align: top;\n",
       "    }\n",
       "\n",
       "    .dataframe thead th {\n",
       "        text-align: right;\n",
       "    }\n",
       "</style>\n",
       "<table border=\"1\" class=\"dataframe\">\n",
       "  <thead>\n",
       "    <tr style=\"text-align: right;\">\n",
       "      <th></th>\n",
       "      <th>article_id</th>\n",
       "      <th>article_topic</th>\n",
       "      <th>article_content</th>\n",
       "      <th>stopword</th>\n",
       "      <th>nmf_topic</th>\n",
       "    </tr>\n",
       "  </thead>\n",
       "  <tbody>\n",
       "    <tr>\n",
       "      <th>3358</th>\n",
       "      <td>560368</td>\n",
       "      <td>Lifestyle</td>\n",
       "      <td>Banyak yang bilang, jodoh tak bisa ditebak. A...</td>\n",
       "      <td>[Banyak, bilang, ,, jodoh, ditebak, ., Ada, pa...</td>\n",
       "      <td>shankly, makoto, busby, guelenist, cassini, ep...</td>\n",
       "    </tr>\n",
       "    <tr>\n",
       "      <th>9330</th>\n",
       "      <td>93185907</td>\n",
       "      <td>Teknologi</td>\n",
       "      <td>\\r\\nDemonstrasi yang berlangsung di Charlotte...</td>\n",
       "      <td>[Demonstrasi, Charlottesville, ,, Virginia, ,,...</td>\n",
       "      <td>ponsel, pengguna, aplikasi, kamera, teknologi,...</td>\n",
       "    </tr>\n",
       "    <tr>\n",
       "      <th>6641</th>\n",
       "      <td>93207792</td>\n",
       "      <td>Personal</td>\n",
       "      <td>Bagi pemuda Indonesia yang cinta tanah air,  ...</td>\n",
       "      <td>[Bagi, pemuda, Indonesia, cinta, tanah, air, ,...</td>\n",
       "      <td>the, and, you, vicky, tulis, ariel, we, acha, ...</td>\n",
       "    </tr>\n",
       "    <tr>\n",
       "      <th>1629</th>\n",
       "      <td>93219927</td>\n",
       "      <td>Hiburan</td>\n",
       "      <td>Keluarga musisi Anji tengah berbahagia. Putra...</td>\n",
       "      <td>[Keluarga, musisi, Anji, berbahagia, ., Putra,...</td>\n",
       "      <td>shankly, makoto, busby, guelenist, cassini, ep...</td>\n",
       "    </tr>\n",
       "    <tr>\n",
       "      <th>6460</th>\n",
       "      <td>93211703</td>\n",
       "      <td>Ekonomi</td>\n",
       "      <td>Rapat Umum Pemegang Saham Luar Biasa (RUPSLB)...</td>\n",
       "      <td>[Rapat, Umum, Pemegang, Saham, Luar, Biasa, (,...</td>\n",
       "      <td>the, and, you, vicky, tulis, ariel, we, acha, ...</td>\n",
       "    </tr>\n",
       "    <tr>\n",
       "      <th>2926</th>\n",
       "      <td>93181624</td>\n",
       "      <td>Ekonomi</td>\n",
       "      <td>Hingga saat ini pihak PT Jakarta Internationa...</td>\n",
       "      <td>[Hingga, PT, Jakarta, International, Container...</td>\n",
       "      <td>the, and, you, vicky, tulis, ariel, we, acha, ...</td>\n",
       "    </tr>\n",
       "    <tr>\n",
       "      <th>1377</th>\n",
       "      <td>93202091</td>\n",
       "      <td>Teknologi</td>\n",
       "      <td>Apple sepertinya akan memperkenalkan sebuah p...</td>\n",
       "      <td>[Apple, memperkenalkan, ponsel, menandai, 10, ...</td>\n",
       "      <td>serangan, tewas, al, isis, korban, bom, kelomp...</td>\n",
       "    </tr>\n",
       "    <tr>\n",
       "      <th>6111</th>\n",
       "      <td>93213899</td>\n",
       "      <td>Internasional</td>\n",
       "      <td>Siti Aisyah akan kembali menjalani pengadilan...</td>\n",
       "      <td>[Siti, Aisyah, menjalani, pengadilan, Senin, p...</td>\n",
       "      <td>dion, alana, fiona, tupperware, taliban, nato,...</td>\n",
       "    </tr>\n",
       "    <tr>\n",
       "      <th>1487</th>\n",
       "      <td>93230324</td>\n",
       "      <td>Ekonomi</td>\n",
       "      <td>Dunia bisnis Malaysia dihebohkan oleh pengund...</td>\n",
       "      <td>[Dunia, bisnis, Malaysia, dihebohkan, pengundu...</td>\n",
       "      <td>the, and, you, vicky, tulis, ariel, we, acha, ...</td>\n",
       "    </tr>\n",
       "    <tr>\n",
       "      <th>1756</th>\n",
       "      <td>93186986</td>\n",
       "      <td>Haji</td>\n",
       "      <td>Menag Lukman menerima cinderamta dari Sekjen ...</td>\n",
       "      <td>[Menag, Lukman, menerima, cinderamta, Sekjen, ...</td>\n",
       "      <td>the, and, you, vicky, tulis, ariel, we, acha, ...</td>\n",
       "    </tr>\n",
       "  </tbody>\n",
       "</table>\n",
       "</div>"
      ],
      "text/plain": [
       "      article_id  article_topic  \\\n",
       "3358      560368      Lifestyle   \n",
       "9330    93185907      Teknologi   \n",
       "6641    93207792       Personal   \n",
       "1629    93219927        Hiburan   \n",
       "6460    93211703        Ekonomi   \n",
       "2926    93181624        Ekonomi   \n",
       "1377    93202091      Teknologi   \n",
       "6111    93213899  Internasional   \n",
       "1487    93230324        Ekonomi   \n",
       "1756    93186986           Haji   \n",
       "\n",
       "                                        article_content  \\\n",
       "3358   Banyak yang bilang, jodoh tak bisa ditebak. A...   \n",
       "9330   \\r\\nDemonstrasi yang berlangsung di Charlotte...   \n",
       "6641   Bagi pemuda Indonesia yang cinta tanah air,  ...   \n",
       "1629   Keluarga musisi Anji tengah berbahagia. Putra...   \n",
       "6460   Rapat Umum Pemegang Saham Luar Biasa (RUPSLB)...   \n",
       "2926   Hingga saat ini pihak PT Jakarta Internationa...   \n",
       "1377   Apple sepertinya akan memperkenalkan sebuah p...   \n",
       "6111   Siti Aisyah akan kembali menjalani pengadilan...   \n",
       "1487   Dunia bisnis Malaysia dihebohkan oleh pengund...   \n",
       "1756   Menag Lukman menerima cinderamta dari Sekjen ...   \n",
       "\n",
       "                                               stopword  \\\n",
       "3358  [Banyak, bilang, ,, jodoh, ditebak, ., Ada, pa...   \n",
       "9330  [Demonstrasi, Charlottesville, ,, Virginia, ,,...   \n",
       "6641  [Bagi, pemuda, Indonesia, cinta, tanah, air, ,...   \n",
       "1629  [Keluarga, musisi, Anji, berbahagia, ., Putra,...   \n",
       "6460  [Rapat, Umum, Pemegang, Saham, Luar, Biasa, (,...   \n",
       "2926  [Hingga, PT, Jakarta, International, Container...   \n",
       "1377  [Apple, memperkenalkan, ponsel, menandai, 10, ...   \n",
       "6111  [Siti, Aisyah, menjalani, pengadilan, Senin, p...   \n",
       "1487  [Dunia, bisnis, Malaysia, dihebohkan, pengundu...   \n",
       "1756  [Menag, Lukman, menerima, cinderamta, Sekjen, ...   \n",
       "\n",
       "                                              nmf_topic  \n",
       "3358  shankly, makoto, busby, guelenist, cassini, ep...  \n",
       "9330  ponsel, pengguna, aplikasi, kamera, teknologi,...  \n",
       "6641  the, and, you, vicky, tulis, ariel, we, acha, ...  \n",
       "1629  shankly, makoto, busby, guelenist, cassini, ep...  \n",
       "6460  the, and, you, vicky, tulis, ariel, we, acha, ...  \n",
       "2926  the, and, you, vicky, tulis, ariel, we, acha, ...  \n",
       "1377  serangan, tewas, al, isis, korban, bom, kelomp...  \n",
       "6111  dion, alana, fiona, tupperware, taliban, nato,...  \n",
       "1487  the, and, you, vicky, tulis, ariel, we, acha, ...  \n",
       "1756  the, and, you, vicky, tulis, ariel, we, acha, ...  "
      ]
     },
     "execution_count": 15,
     "metadata": {},
     "output_type": "execute_result"
    }
   ],
   "source": [
    "tfidf_NMF=nmf.transform(tfidf)\n",
    "\n",
    "dok_topic = [x.argmax() for x in tfidf_NMF]\n",
    "\n",
    "topic_dict = {}\n",
    "for topic_idx, topic in enumerate(lda.components_[:no_topics]):\n",
    "    topic_dict[topic_idx] = \", \".join([tfidf_feature_names[i]\n",
    "                        for i in topic.argsort()[:-no_top_words - 1:-1]])\n",
    "    \n",
    "df[\"nmf_topic\"] = [topic_dict[i] for i in dok_topic]\n",
    "\n",
    "df.sample(10, random_state=10)"
   ]
  },
  {
   "cell_type": "markdown",
   "metadata": {},
   "source": [
    "Hasil dari algoritma NMF dapat dilihat dari 10 sampel diatas, dimana ada yang masih relevan dengan topik dan ada yang tidak."
   ]
  },
  {
   "cell_type": "markdown",
   "metadata": {},
   "source": [
    "Coba dengan algoritma LDA."
   ]
  },
  {
   "cell_type": "code",
   "execution_count": 16,
   "metadata": {},
   "outputs": [
    {
     "data": {
      "text/html": [
       "<div>\n",
       "<style scoped>\n",
       "    .dataframe tbody tr th:only-of-type {\n",
       "        vertical-align: middle;\n",
       "    }\n",
       "\n",
       "    .dataframe tbody tr th {\n",
       "        vertical-align: top;\n",
       "    }\n",
       "\n",
       "    .dataframe thead th {\n",
       "        text-align: right;\n",
       "    }\n",
       "</style>\n",
       "<table border=\"1\" class=\"dataframe\">\n",
       "  <thead>\n",
       "    <tr style=\"text-align: right;\">\n",
       "      <th></th>\n",
       "      <th>article_id</th>\n",
       "      <th>article_topic</th>\n",
       "      <th>article_content</th>\n",
       "      <th>stopword</th>\n",
       "      <th>nmf_topic</th>\n",
       "      <th>lda_topic</th>\n",
       "    </tr>\n",
       "  </thead>\n",
       "  <tbody>\n",
       "    <tr>\n",
       "      <th>3358</th>\n",
       "      <td>560368</td>\n",
       "      <td>Lifestyle</td>\n",
       "      <td>Banyak yang bilang, jodoh tak bisa ditebak. A...</td>\n",
       "      <td>[Banyak, bilang, ,, jodoh, ditebak, ., Ada, pa...</td>\n",
       "      <td>shankly, makoto, busby, guelenist, cassini, ep...</td>\n",
       "      <td>anak, orang, film, ya, lagu, namun, sang, foto...</td>\n",
       "    </tr>\n",
       "    <tr>\n",
       "      <th>9330</th>\n",
       "      <td>93185907</td>\n",
       "      <td>Teknologi</td>\n",
       "      <td>\\r\\nDemonstrasi yang berlangsung di Charlotte...</td>\n",
       "      <td>[Demonstrasi, Charlottesville, ,, Virginia, ,,...</td>\n",
       "      <td>ponsel, pengguna, aplikasi, kamera, teknologi,...</td>\n",
       "      <td>indonesia, negara, orang, jakarta, pemerintah,...</td>\n",
       "    </tr>\n",
       "    <tr>\n",
       "      <th>6641</th>\n",
       "      <td>93207792</td>\n",
       "      <td>Personal</td>\n",
       "      <td>Bagi pemuda Indonesia yang cinta tanah air,  ...</td>\n",
       "      <td>[Bagi, pemuda, Indonesia, cinta, tanah, air, ,...</td>\n",
       "      <td>the, and, you, vicky, tulis, ariel, we, acha, ...</td>\n",
       "      <td>indonesia, negara, orang, jakarta, pemerintah,...</td>\n",
       "    </tr>\n",
       "    <tr>\n",
       "      <th>1629</th>\n",
       "      <td>93219927</td>\n",
       "      <td>Hiburan</td>\n",
       "      <td>Keluarga musisi Anji tengah berbahagia. Putra...</td>\n",
       "      <td>[Keluarga, musisi, Anji, berbahagia, ., Putra,...</td>\n",
       "      <td>shankly, makoto, busby, guelenist, cassini, ep...</td>\n",
       "      <td>anak, orang, film, ya, lagu, namun, sang, foto...</td>\n",
       "    </tr>\n",
       "    <tr>\n",
       "      <th>6460</th>\n",
       "      <td>93211703</td>\n",
       "      <td>Ekonomi</td>\n",
       "      <td>Rapat Umum Pemegang Saham Luar Biasa (RUPSLB)...</td>\n",
       "      <td>[Rapat, Umum, Pemegang, Saham, Luar, Biasa, (,...</td>\n",
       "      <td>the, and, you, vicky, tulis, ariel, we, acha, ...</td>\n",
       "      <td>indonesia, negara, orang, jakarta, pemerintah,...</td>\n",
       "    </tr>\n",
       "    <tr>\n",
       "      <th>2926</th>\n",
       "      <td>93181624</td>\n",
       "      <td>Ekonomi</td>\n",
       "      <td>Hingga saat ini pihak PT Jakarta Internationa...</td>\n",
       "      <td>[Hingga, PT, Jakarta, International, Container...</td>\n",
       "      <td>the, and, you, vicky, tulis, ariel, we, acha, ...</td>\n",
       "      <td>indonesia, negara, orang, jakarta, pemerintah,...</td>\n",
       "    </tr>\n",
       "    <tr>\n",
       "      <th>1377</th>\n",
       "      <td>93202091</td>\n",
       "      <td>Teknologi</td>\n",
       "      <td>Apple sepertinya akan memperkenalkan sebuah p...</td>\n",
       "      <td>[Apple, memperkenalkan, ponsel, menandai, 10, ...</td>\n",
       "      <td>serangan, tewas, al, isis, korban, bom, kelomp...</td>\n",
       "      <td>ponsel, pengguna, aplikasi, kamera, teknologi,...</td>\n",
       "    </tr>\n",
       "    <tr>\n",
       "      <th>6111</th>\n",
       "      <td>93213899</td>\n",
       "      <td>Internasional</td>\n",
       "      <td>Siti Aisyah akan kembali menjalani pengadilan...</td>\n",
       "      <td>[Siti, Aisyah, menjalani, pengadilan, Senin, p...</td>\n",
       "      <td>dion, alana, fiona, tupperware, taliban, nato,...</td>\n",
       "      <td>indonesia, negara, orang, jakarta, pemerintah,...</td>\n",
       "    </tr>\n",
       "    <tr>\n",
       "      <th>1487</th>\n",
       "      <td>93230324</td>\n",
       "      <td>Ekonomi</td>\n",
       "      <td>Dunia bisnis Malaysia dihebohkan oleh pengund...</td>\n",
       "      <td>[Dunia, bisnis, Malaysia, dihebohkan, pengundu...</td>\n",
       "      <td>the, and, you, vicky, tulis, ariel, we, acha, ...</td>\n",
       "      <td>indonesia, negara, orang, jakarta, pemerintah,...</td>\n",
       "    </tr>\n",
       "    <tr>\n",
       "      <th>1756</th>\n",
       "      <td>93186986</td>\n",
       "      <td>Haji</td>\n",
       "      <td>Menag Lukman menerima cinderamta dari Sekjen ...</td>\n",
       "      <td>[Menag, Lukman, menerima, cinderamta, Sekjen, ...</td>\n",
       "      <td>the, and, you, vicky, tulis, ariel, we, acha, ...</td>\n",
       "      <td>indonesia, negara, orang, jakarta, pemerintah,...</td>\n",
       "    </tr>\n",
       "  </tbody>\n",
       "</table>\n",
       "</div>"
      ],
      "text/plain": [
       "      article_id  article_topic  \\\n",
       "3358      560368      Lifestyle   \n",
       "9330    93185907      Teknologi   \n",
       "6641    93207792       Personal   \n",
       "1629    93219927        Hiburan   \n",
       "6460    93211703        Ekonomi   \n",
       "2926    93181624        Ekonomi   \n",
       "1377    93202091      Teknologi   \n",
       "6111    93213899  Internasional   \n",
       "1487    93230324        Ekonomi   \n",
       "1756    93186986           Haji   \n",
       "\n",
       "                                        article_content  \\\n",
       "3358   Banyak yang bilang, jodoh tak bisa ditebak. A...   \n",
       "9330   \\r\\nDemonstrasi yang berlangsung di Charlotte...   \n",
       "6641   Bagi pemuda Indonesia yang cinta tanah air,  ...   \n",
       "1629   Keluarga musisi Anji tengah berbahagia. Putra...   \n",
       "6460   Rapat Umum Pemegang Saham Luar Biasa (RUPSLB)...   \n",
       "2926   Hingga saat ini pihak PT Jakarta Internationa...   \n",
       "1377   Apple sepertinya akan memperkenalkan sebuah p...   \n",
       "6111   Siti Aisyah akan kembali menjalani pengadilan...   \n",
       "1487   Dunia bisnis Malaysia dihebohkan oleh pengund...   \n",
       "1756   Menag Lukman menerima cinderamta dari Sekjen ...   \n",
       "\n",
       "                                               stopword  \\\n",
       "3358  [Banyak, bilang, ,, jodoh, ditebak, ., Ada, pa...   \n",
       "9330  [Demonstrasi, Charlottesville, ,, Virginia, ,,...   \n",
       "6641  [Bagi, pemuda, Indonesia, cinta, tanah, air, ,...   \n",
       "1629  [Keluarga, musisi, Anji, berbahagia, ., Putra,...   \n",
       "6460  [Rapat, Umum, Pemegang, Saham, Luar, Biasa, (,...   \n",
       "2926  [Hingga, PT, Jakarta, International, Container...   \n",
       "1377  [Apple, memperkenalkan, ponsel, menandai, 10, ...   \n",
       "6111  [Siti, Aisyah, menjalani, pengadilan, Senin, p...   \n",
       "1487  [Dunia, bisnis, Malaysia, dihebohkan, pengundu...   \n",
       "1756  [Menag, Lukman, menerima, cinderamta, Sekjen, ...   \n",
       "\n",
       "                                              nmf_topic  \\\n",
       "3358  shankly, makoto, busby, guelenist, cassini, ep...   \n",
       "9330  ponsel, pengguna, aplikasi, kamera, teknologi,...   \n",
       "6641  the, and, you, vicky, tulis, ariel, we, acha, ...   \n",
       "1629  shankly, makoto, busby, guelenist, cassini, ep...   \n",
       "6460  the, and, you, vicky, tulis, ariel, we, acha, ...   \n",
       "2926  the, and, you, vicky, tulis, ariel, we, acha, ...   \n",
       "1377  serangan, tewas, al, isis, korban, bom, kelomp...   \n",
       "6111  dion, alana, fiona, tupperware, taliban, nato,...   \n",
       "1487  the, and, you, vicky, tulis, ariel, we, acha, ...   \n",
       "1756  the, and, you, vicky, tulis, ariel, we, acha, ...   \n",
       "\n",
       "                                              lda_topic  \n",
       "3358  anak, orang, film, ya, lagu, namun, sang, foto...  \n",
       "9330  indonesia, negara, orang, jakarta, pemerintah,...  \n",
       "6641  indonesia, negara, orang, jakarta, pemerintah,...  \n",
       "1629  anak, orang, film, ya, lagu, namun, sang, foto...  \n",
       "6460  indonesia, negara, orang, jakarta, pemerintah,...  \n",
       "2926  indonesia, negara, orang, jakarta, pemerintah,...  \n",
       "1377  ponsel, pengguna, aplikasi, kamera, teknologi,...  \n",
       "6111  indonesia, negara, orang, jakarta, pemerintah,...  \n",
       "1487  indonesia, negara, orang, jakarta, pemerintah,...  \n",
       "1756  indonesia, negara, orang, jakarta, pemerintah,...  "
      ]
     },
     "execution_count": 16,
     "metadata": {},
     "output_type": "execute_result"
    }
   ],
   "source": [
    "count_vect_lda=lda.transform(count)\n",
    "\n",
    "dok_topic = [x.argmax() for x in count_vect_lda]\n",
    "\n",
    "topic_dict = {}\n",
    "for topic_idx, topic in enumerate(lda.components_[:no_topics]):\n",
    "    topic_dict[topic_idx] = \", \".join([tf_feature_names[i]\n",
    "                        for i in topic.argsort()[:-no_top_words - 1:-1]])\n",
    "    \n",
    "df[\"lda_topic\"] = [topic_dict[i] for i in dok_topic]\n",
    "\n",
    "df.sample(10, random_state=10)"
   ]
  },
  {
   "cell_type": "markdown",
   "metadata": {},
   "source": [
    "Hampir sama dengan NMF dimana terdapat relevansi antara hasil dan topic sebenarnya, namun ada juga yang tidak."
   ]
  },
  {
   "cell_type": "markdown",
   "metadata": {},
   "source": [
    "## Future Works\n",
    "- Mencoba metode clustering, apakah bisa lebih bagus dengan metode tersebut.\n",
    "- Menggunakan fungsi regex untuk dapat mengklasifikasikan berdasarkan kata-kata kunci yang termasuk dalam topik yang mana\n",
    "- Menggunakan algoritma machine learning lain dan mecoba menerapkan deep learning dalam prediksi\n",
    "- Mencoba menambah proses yang diperlukan pada preprocessing data seperti stemming, dan lain sebagainya\n",
    "- Mencoba Tuning parameter pada countvectorizer, tf-idf dan algoritma machine learning"
   ]
  }
 ],
 "metadata": {
  "kernelspec": {
   "display_name": "Python 3",
   "language": "python",
   "name": "python3"
  },
  "language_info": {
   "codemirror_mode": {
    "name": "ipython",
    "version": 3
   },
   "file_extension": ".py",
   "mimetype": "text/x-python",
   "name": "python",
   "nbconvert_exporter": "python",
   "pygments_lexer": "ipython3",
   "version": "3.5.4"
  }
 },
 "nbformat": 4,
 "nbformat_minor": 2
}
